{
  "cells": [
    {
      "cell_type": "markdown",
      "metadata": {
        "colab_type": "text",
        "id": "view-in-github"
      },
      "source": [
        "[![Open In Colab](https://colab.research.google.com/assets/colab-badge.svg)](https://colab.research.google.com/github/ee-ortiz/ISIS-4825_202320_IMAGENES_Y_VISION/blob/main/Laboratorio%201/Laboratorio/MISIS4825-M%26V2023%20-%20LAB1.ipynb)"
      ]
    },
    {
      "cell_type": "markdown",
      "metadata": {
        "id": "SU_lch1DySrJ"
      },
      "source": [
        "![image](https://drive.google.com/u/0/uc?id=15DUc09hFGqR8qcpYiN1OajRNaASmiL6d&export=download)"
      ]
    },
    {
      "cell_type": "markdown",
      "metadata": {
        "id": "5UbZ1aWajfMi"
      },
      "source": [
        "\n",
        "# **Taller 1**\n",
        "\n",
        "ChessAI desea desarrollar una aplicación que permita a los usuarios jugar ajedrez en un entorno virtual, interactuando con una interfaz física. Para lograrlo, se plantea la necesidad de un sistema que pueda reconocer y seguir el movimiento de las piezas de ajedrez sobre un tablero real, traduciendo estos movimientos a un ambiente digital en tiempo real. La clave para el éxito de este proyecto reside en la capacidad de identificar con precisión cada tipo de pieza de ajedrez y su posición en el tablero.\n",
        "\n",
        "1.\t***Preprocesamiento de Datos***.\n",
        "\n",
        "*   Explore el conjunto de datos proporcionado y prepárelos para el entrenamiento y validación. Dado que este conjunto de datos no incluye un grupo de test, es necesario realizar una división entre entrenamiento y test. Utilice la función `train_test_split` de `sklearn.model_selection` para llevar a cabo esta tarea. ¿Que particularidades presentan los datos y qué técnicas de preprocesamiento se pueden aplicar?\n",
        "\n",
        "2.\t***Detección y Clasificación de Piezas de Ajedrez (KNN)***\n",
        "*   Entrene un modelo de KNN para la detección y clasificación de piezas de ajedrez. ¿Qué resultados obtiene? ¿Qué ventajas y desventajas tiene este modelo para el problema planteado?\n",
        "\n",
        "3.  **Implementación de PCA**\n",
        "*   Realice un Análisis de Componentes Principales (PCA) sobre el conjunto de datos para reducir la dimensionalidad y retener la información más relevante. ¿Cómo afecta la reducción de dimensionalidad al desempeño del modelo KNN previamente entrenado?\n",
        "\n",
        "\n",
        "Datos: https://www.kaggle.com/datasets/anshulmehtakaggl/chess-pieces-detection-images-dataset\n"
      ]
    }
  ],
  "metadata": {
    "colab": {
      "authorship_tag": "ABX9TyNsDYO4OIJok9V9tv3EHjkO",
      "include_colab_link": true,
      "provenance": []
    },
    "kernelspec": {
      "display_name": "Python 3",
      "name": "python3"
    },
    "language_info": {
      "name": "python"
    }
  },
  "nbformat": 4,
  "nbformat_minor": 0
}
